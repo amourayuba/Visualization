{
 "cells": [
  {
   "cell_type": "code",
   "execution_count": 2,
   "id": "c87d2410-df2c-41b1-ae21-f34bb049db50",
   "metadata": {},
   "outputs": [],
   "source": [
    "import cv2\n",
    "import glob\n",
    "import re"
   ]
  },
  {
   "cell_type": "code",
   "execution_count": 1,
   "id": "ac275099-5b5d-42dc-b1e0-ca43fb0a9b9a",
   "metadata": {},
   "outputs": [],
   "source": [
    "!module load ffmpeg"
   ]
  },
  {
   "cell_type": "code",
   "execution_count": 5,
   "id": "eb00d303-edb5-469e-b900-858f344ab189",
   "metadata": {},
   "outputs": [],
   "source": [
    "sim = 'm25s7'\n",
    "#cmp = 'cubehelix'\n",
    "cmp = 'cubehelix'\n",
    "def natural_sort_key(s):\n",
    "    # Split the string into alphabetic and numeric parts\n",
    "    parts = re.split(r'(\\d+)', s)\n",
    "    return [int(part) if part.isdigit() else part for part in parts]"
   ]
  },
  {
   "cell_type": "code",
   "execution_count": 3,
   "id": "e017e153-4d80-4f3a-afa9-41c45a8a7388",
   "metadata": {},
   "outputs": [],
   "source": [
    "fbase = '/home/ayuba/projects/def-taylor/ayuba/halo_profiles/'"
   ]
  },
  {
   "cell_type": "markdown",
   "id": "df2210c4-8570-4e31-879f-e2de8342b35b",
   "metadata": {},
   "source": [
    "### Full simulation "
   ]
  },
  {
   "cell_type": "code",
   "execution_count": 28,
   "id": "593cb070-dfd2-45a6-b606-545e3626a878",
   "metadata": {},
   "outputs": [],
   "source": [
    "mlim=1e14 #1e12, 1e13 or 1e14\n",
    "grid = 4048 #2048 or 4048\n",
    "vm = \"8.6\" #8.0, 8.6 or variable\n",
    "files = glob.glob(fbase+'snapfigs_old/full_{}_bins{}_cmap{}_snap*_vmax{}_wgroups{:1.2e}.png'.format(sim, grid, cmp, vm, mlim))\n",
    "output_video = fbase+'vids/full_{}_bins{}_cmap{}_vmax{}_wgroups{:1.2e}.mp4'.format(sim, grid, cmp, vm, mlim)\n",
    "\n",
    "files = sorted(files, key=natural_sort_key)\n",
    "print(len(files))"
   ]
  },
  {
   "cell_type": "markdown",
   "id": "0f738ba7-d0eb-427a-969b-7d90ae21c7c0",
   "metadata": {},
   "source": [
    "### Zoom simulations old"
   ]
  },
  {
   "cell_type": "code",
   "execution_count": 6,
   "id": "a7a06707-1aac-4e86-859b-c3684ecc55c5",
   "metadata": {},
   "outputs": [],
   "source": [
    "size = 50\n",
    "k = 0\n",
    "smooth ='smooth'\n",
    "files = glob.glob(fbase+'snapfigs_old/zoom{}_{}_bins{}_cmap{}_snap*_vmax7.2_{}.png'.format(size, sim, 2024*(k+1), cmp,  smooth)) \n",
    "output_video = fbase+'vids/zoom{}_{}_bins{}_cmap{}_vmax7.2_{}.png'.format(size, sim, 2024*(k+1), cmp,  smooth)\n",
    "\n",
    "files = sorted(files, key=natural_sort_key)"
   ]
  },
  {
   "cell_type": "markdown",
   "id": "68a728de-8839-4a92-a3fe-df1d0a88c764",
   "metadata": {},
   "source": [
    "### Zoom simulations new"
   ]
  },
  {
   "cell_type": "code",
   "execution_count": 39,
   "id": "039e0ab4-b40c-452e-aea0-9fe007591e1d",
   "metadata": {},
   "outputs": [
    {
     "name": "stdout",
     "output_type": "stream",
     "text": [
      "69\n"
     ]
    }
   ],
   "source": [
    "size = 50\n",
    "vmax = \"6.4\"\n",
    "files = glob.glob(fbase+'snapfigs/zoom{}_{}_bins2048_cmap{}_snap*_vmax{}.png'.format(size, sim, cmp, vmax))\n",
    "output_video = fbase+'vids/zoom{}_{}_bins2048_cmap{}_vmax{}.png'.format(size, sim, cmp, vmax)\n",
    "files = sorted(files, key=natural_sort_key)\n",
    "print(len(files))"
   ]
  },
  {
   "cell_type": "code",
   "execution_count": null,
   "id": "3caba227-f944-4262-86e1-355c7d188a3f",
   "metadata": {},
   "outputs": [],
   "source": [
    "frame_rate = 3.0  # Adjust as needed\n",
    "first_image = cv2.imread(files[0])\n",
    "\n",
    "height, width, _ = first_image.shape\n",
    "video_size = (width, height)\n",
    "\n",
    "fourcc = cv2.VideoWriter_fourcc('m', 'p', '4', 'v')  # Specify the codec for the video file (may vary)\n",
    "video_writer = cv2.VideoWriter(output_video, fourcc, frame_rate, video_size)\n",
    "\n",
    "for image_file in files:\n",
    "    #image_path = os.path.join(input_directory, image_file)\n",
    "    image = cv2.imread(image_file)\n",
    "    video_writer.write(image)\n",
    "    \n",
    "video_writer.release()\n",
    "cv2.destroyAllWindows()"
   ]
  }
 ],
 "metadata": {
  "kernelspec": {
   "display_name": "Python 3 (ipykernel)",
   "language": "python",
   "name": "python3"
  },
  "language_info": {
   "codemirror_mode": {
    "name": "ipython",
    "version": 3
   },
   "file_extension": ".py",
   "mimetype": "text/x-python",
   "name": "python",
   "nbconvert_exporter": "python",
   "pygments_lexer": "ipython3",
   "version": "3.8.10"
  }
 },
 "nbformat": 4,
 "nbformat_minor": 5
}
